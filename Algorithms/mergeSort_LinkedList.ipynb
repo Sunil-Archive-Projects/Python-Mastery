{
 "metadata": {
  "language_info": {
   "codemirror_mode": {
    "name": "ipython",
    "version": 3
   },
   "file_extension": ".py",
   "mimetype": "text/x-python",
   "name": "python",
   "nbconvert_exporter": "python",
   "pygments_lexer": "ipython3",
   "version": "3.8.2-final"
  },
  "orig_nbformat": 2,
  "kernelspec": {
   "name": "python3",
   "display_name": "Python 3.8.2 64-bit",
   "metadata": {
    "interpreter": {
     "hash": "31f2aee4e71d21fbe5cf8b01ff0e069b9275f58929596ceb00d14d90e3e16cd6"
    }
   }
  }
 },
 "nbformat": 4,
 "nbformat_minor": 2,
 "cells": [
  {
   "cell_type": "code",
   "execution_count": 5,
   "metadata": {},
   "outputs": [
    {
     "output_type": "stream",
     "name": "stdout",
     "text": [
      "9 -> 10 -> 8 -> 17 -> 15 -> None\n"
     ]
    }
   ],
   "source": [
    "import sys\n",
    "\n",
    "class Node:\n",
    "    def __init__(self, data):\n",
    "        self.data = data\n",
    "        self.next = None\n",
    "\n",
    "class LinkedList:\n",
    "    def __init__(self):\n",
    "        self.head = None\n",
    "\n",
    "    def insert(self, *data_lst):\n",
    "        for data in data_lst: \n",
    "            node = Node(data)\n",
    "            if self.head == None:\n",
    "                self.head = node\n",
    "            else:\n",
    "                temp = self.head\n",
    "                while temp.next:\n",
    "                    temp = temp.next\n",
    "                temp.next = node\n",
    "    \n",
    "    def printList(self):\n",
    "        temp = self.head\n",
    "        while temp:\n",
    "            print(f\"{temp.data} ->\", end=  ' ')\n",
    "            temp = temp.next\n",
    "        print (\"None\")\n",
    "\n",
    "    def merge(left, right):\n",
    "        pass\n",
    "\n",
    "    def mergeSort(llist):\n",
    "        \n",
    "\n",
    "\n",
    "linkedList = LinkedList()\n",
    "linkedList.insert(9, 10, 8, 17, 15)\n",
    "linkedList.printList()"
   ]
  },
  {
   "cell_type": "code",
   "execution_count": null,
   "metadata": {},
   "outputs": [],
   "source": []
  }
 ]
}