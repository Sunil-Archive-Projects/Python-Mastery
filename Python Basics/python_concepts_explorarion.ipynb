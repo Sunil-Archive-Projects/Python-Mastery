{
 "metadata": {
  "language_info": {
   "codemirror_mode": {
    "name": "ipython",
    "version": 3
   },
   "file_extension": ".py",
   "mimetype": "text/x-python",
   "name": "python",
   "nbconvert_exporter": "python",
   "pygments_lexer": "ipython3",
   "version": "3.8.2"
  },
  "orig_nbformat": 2,
  "kernelspec": {
   "name": "python382jvsc74a57bd031f2aee4e71d21fbe5cf8b01ff0e069b9275f58929596ceb00d14d90e3e16cd6",
   "display_name": "Python 3.8.2 64-bit"
  },
  "metadata": {
   "interpreter": {
    "hash": "31f2aee4e71d21fbe5cf8b01ff0e069b9275f58929596ceb00d14d90e3e16cd6"
   }
  }
 },
 "nbformat": 4,
 "nbformat_minor": 2,
 "cells": [
  {
   "source": [
    "# Python Concepts\n",
    "\n",
    "- List\n",
    "    - Slicing - Done\n",
    "    - List Comprehension - Done\n",
    "- Dictionary and Sets\n",
    "    - OrderedDict\n",
    "    - DefaultDict\n",
    "    - Sets\n",
    "- os and sys modules\n",
    "- Deep and Shallow copy\n",
    "- Generators - Basics Done\n",
    "- Decorators - Done\n",
    "- MultipleInheritance and Mixins\n",
    "- Closures - Done\n",
    "- Map, Reduce and Filter - Done\n",
    "- Lambda Functions - Done\n",
    "- zip - Done\n",
    "- *args , **kwargs - Done\n",
    "- Enumerate - "
   ],
   "cell_type": "markdown",
   "metadata": {}
  },
  {
   "cell_type": "code",
   "execution_count": 35,
   "metadata": {},
   "outputs": [
    {
     "output_type": "stream",
     "name": "stdout",
     "text": [
      "[0, 2, 4, 6, 8, 10, 12, 14, 16, 18]\n[0, 2, 4, 6, 8, 10, 12, 14, 16, 18]\n[10, 8, 6, 4, 2, 0]\n[2, 6]\n"
     ]
    }
   ],
   "source": [
    "#list comprehension\n",
    "\n",
    "lst = [x for x in range(0, 20, 2)]\n",
    "print(lst)\n",
    "\n",
    "# list[initial:end:stride]\n",
    "print(lst[::])\n",
    "\n",
    "print(lst[-5::-1])\n",
    "\n",
    "print(lst[1:5:2])\n",
    "\n",
    "# Initialize list\n",
    "List = [-999, 'G4G', 1706256, 3.1496, '^_^']\n",
    "  \n",
    "# Show original list\n",
    "print(\"\\nOriginal List:\\n\", List)\n",
    "  \n",
    "  \n",
    "print(\"\\nSliced Lists: \")\n",
    "  \n",
    "# Modified List\n",
    "List[2:4] = ['Geeks', 'for', 'Geeks', 'hey', 'you']\n",
    "  \n",
    "# Display sliced list\n",
    "print(List)\n",
    "  \n",
    "# Modified List\n",
    "List[:6] = []\n",
    "  \n",
    "# Display sliced list\n",
    "print(List)\n",
    "\n"
   ]
  },
  {
   "cell_type": "code",
   "execution_count": 18,
   "metadata": {},
   "outputs": [
    {
     "output_type": "execute_result",
     "data": {
      "text/plain": [
       "50"
      ]
     },
     "metadata": {},
     "execution_count": 18
    }
   ],
   "source": [
    "# lambda functions exploration\n",
    "\n",
    "double_it = lambda n : n * 2\n",
    "double_it(10)\n",
    "\n",
    "add_numbers = lambda x,y : x+y\n",
    "add_numbers(10, 20)\n",
    "\n",
    "my_list = [1, 3, 6, 8, 9, 11, 12]\n",
    "\n",
    "#lambda with filter()\n",
    "even_nums = list(filter(lambda x: (x%2 ==0),my_list))\n",
    "even_nums\n",
    "\n",
    "#lambda with map()\n",
    "double_it = list(map(lambda x:x*2, my_list))\n",
    "double_it\n",
    "\n",
    "#lambda with reduce()\n",
    "from functools import reduce\n",
    "\n",
    "sum_array = reduce(lambda x,y: x+y, my_list)\n",
    "sum_array\n"
   ]
  },
  {
   "cell_type": "code",
   "execution_count": 38,
   "metadata": {},
   "outputs": [
    {
     "output_type": "stream",
     "name": "stdout",
     "text": [
      "\nOriginal List:\n [-999, 'G4G', 1706256, 3.1496, '^_^']\n\nSliced Lists: \n[-999, 'G4G', 'Geeks', 'for', 'Geeks', 'hey', 'you', '^_^']\n['you', '^_^']\n"
     ]
    }
   ],
   "source": []
  },
  {
   "cell_type": "code",
   "execution_count": 51,
   "metadata": {},
   "outputs": [
    {
     "output_type": "stream",
     "name": "stdout",
     "text": [
      "10\n"
     ]
    }
   ],
   "source": [
    "lst1 = ['a','b','c','d']\n",
    "lst2 = [x for x in range(1,11)]\n",
    "lst3 = ['Excellent', 'Good', 'Bad', 'Amazing']\n",
    "\n",
    "list(zip(lst1, lst2, lst3))\n",
    "\n",
    "print(max(lst2))"
   ]
  },
  {
   "cell_type": "code",
   "execution_count": 65,
   "metadata": {},
   "outputs": [
    {
     "output_type": "stream",
     "name": "stdout",
     "text": [
      "10\n9\n8\n7\n6\n"
     ]
    }
   ],
   "source": [
    "# Generators : Lazy Iterators\n",
    "\n",
    "def generator_func(n):\n",
    "    while n > 0:\n",
    "        yield(n)\n",
    "        n-=1\n",
    "\n",
    "gen = generator_func(10)\n",
    "print(next(gen))\n",
    "print(next(gen))\n",
    "print(next(gen))\n",
    "print(next(gen))\n",
    "print(next(gen))\n"
   ]
  },
  {
   "cell_type": "code",
   "execution_count": 67,
   "metadata": {},
   "outputs": [
    {
     "output_type": "stream",
     "name": "stdout",
     "text": [
      "Hello\nHello\n"
     ]
    }
   ],
   "source": [
    "# Decorators\n",
    "# Basically, a decorator takes in a function, adds some functionality and returns it.\n",
    "\n",
    "def first(msg):\n",
    "    print(msg)\n",
    "\n",
    "second = first\n",
    "\n",
    "first(\"Hello\")\n",
    "second(\"Hello\")"
   ]
  },
  {
   "cell_type": "code",
   "execution_count": 73,
   "metadata": {},
   "outputs": [
    {
     "output_type": "execute_result",
     "data": {
      "text/plain": [
       "999"
      ]
     },
     "metadata": {},
     "execution_count": 73
    }
   ],
   "source": [
    "def inc(x):\n",
    "    return int(x)+1\n",
    "\n",
    "def dec(x):\n",
    "    return int(x)-1\n",
    "\n",
    "def operate(operation, data):\n",
    "    return operation(data)\n",
    "\n",
    "# operate is a Higher Order Function which can pass around Fucntions as Arguments\n",
    "operate(inc, 68)\n",
    "operate(dec, 1000)"
   ]
  },
  {
   "cell_type": "code",
   "execution_count": 80,
   "metadata": {},
   "outputs": [
    {
     "output_type": "stream",
     "name": "stdout",
     "text": [
      "Hello\n"
     ]
    }
   ],
   "source": [
    "def is_called():\n",
    "    def is_returned():\n",
    "        print(\"Hello\")\n",
    "    return is_returned\n",
    "\n",
    "is_driver = is_called()\n",
    "\n",
    "is_driver()"
   ]
  },
  {
   "cell_type": "code",
   "execution_count": 86,
   "metadata": {},
   "outputs": [
    {
     "output_type": "stream",
     "name": "stdout",
     "text": [
      "Decorating Stuff\nOrdinary Stuff\n"
     ]
    }
   ],
   "source": [
    "#basic decorator\n",
    "\n",
    "def decorate_func(func):\n",
    "    def inner():\n",
    "        print(\"Decorating Stuff\")\n",
    "        func()\n",
    "    return inner\n",
    "\n",
    "def ordinary():\n",
    "    print(\"Ordinary Stuff\")\n",
    "\n",
    "# ordinary()\n",
    "basic_dec = decorate_func(ordinary)\n",
    "basic_dec()"
   ]
  },
  {
   "cell_type": "code",
   "execution_count": 109,
   "metadata": {},
   "outputs": [
    {
     "output_type": "stream",
     "name": "stdout",
     "text": [
      "Invalid Division\n0.5\n"
     ]
    }
   ],
   "source": [
    "def smart_divide(func):\n",
    "    def inner(a, b):\n",
    "        if b==0:\n",
    "            print(\"Invalid Division\")\n",
    "            return\n",
    "        return func(a, b)\n",
    "    return inner\n",
    "\n",
    "@smart_divide\n",
    "def divide(a, b):\n",
    "    print(a/b)\n",
    "\n",
    "divide(1, 0)\n",
    "divide(1, 2)\n"
   ]
  },
  {
   "cell_type": "code",
   "execution_count": 106,
   "metadata": {},
   "outputs": [],
   "source": [
    "def var_args(*args, **kwargs):\n",
    "    print(\"Args : \", args)\n",
    "    print(\"Kwargs :\", kwargs)"
   ]
  },
  {
   "cell_type": "code",
   "execution_count": 107,
   "metadata": {},
   "outputs": [
    {
     "output_type": "stream",
     "name": "stdout",
     "text": [
      "Args :  (1, 2, 3)\nKwargs : {'a': 100, 'b': 200}\n"
     ]
    }
   ],
   "source": [
    "var_args(1, 2, 3, a=100, b=200)"
   ]
  },
  {
   "cell_type": "code",
   "execution_count": 111,
   "metadata": {},
   "outputs": [],
   "source": [
    "def star(func):\n",
    "    def inner(*args, **kwargs):\n",
    "        print('*'*30)\n",
    "        func(*args, **kwargs)\n",
    "        print('*'*30)\n",
    "    return inner\n",
    "\n",
    "def percent(func):\n",
    "    def inner(*args, **kwargs):\n",
    "        print('%'*30)\n",
    "        func(*args, **kwargs)\n",
    "        print('%'*30)\n",
    "    return inner\n",
    "\n",
    "@star\n",
    "@percent\n",
    "def printer(msg):\n",
    "    print(msg)"
   ]
  },
  {
   "cell_type": "code",
   "execution_count": 112,
   "metadata": {},
   "outputs": [
    {
     "output_type": "stream",
     "name": "stdout",
     "text": [
      "******************************\n%%%%%%%%%%%%%%%%%%%%%%%%%%%%%%\nSunil\n%%%%%%%%%%%%%%%%%%%%%%%%%%%%%%\n******************************\n"
     ]
    }
   ],
   "source": [
    "printer(\"Sunil\")"
   ]
  },
  {
   "cell_type": "code",
   "execution_count": 124,
   "metadata": {},
   "outputs": [
    {
     "output_type": "stream",
     "name": "stdout",
     "text": [
      "Calling Getter !\n10\nCalling Setter !\n1000.0\nCalling Setter !\n"
     ]
    },
    {
     "output_type": "error",
     "ename": "ValueError",
     "evalue": "Not a Float",
     "traceback": [
      "\u001b[0;31m---------------------------------------------------------------------------\u001b[0m",
      "\u001b[0;31mValueError\u001b[0m                                Traceback (most recent call last)",
      "\u001b[0;32m<ipython-input-124-4a2968a04e0f>\u001b[0m in \u001b[0;36m<module>\u001b[0;34m\u001b[0m\n\u001b[1;32m     30\u001b[0m \u001b[0mprint\u001b[0m\u001b[0;34m(\u001b[0m\u001b[0mhouse\u001b[0m\u001b[0;34m.\u001b[0m\u001b[0m_price\u001b[0m\u001b[0;34m)\u001b[0m\u001b[0;34m\u001b[0m\u001b[0;34m\u001b[0m\u001b[0m\n\u001b[1;32m     31\u001b[0m \u001b[0;34m\u001b[0m\u001b[0m\n\u001b[0;32m---> 32\u001b[0;31m \u001b[0mhouse\u001b[0m\u001b[0;34m.\u001b[0m\u001b[0mprice\u001b[0m \u001b[0;34m=\u001b[0m \u001b[0;36m2000\u001b[0m\u001b[0;34m\u001b[0m\u001b[0;34m\u001b[0m\u001b[0m\n\u001b[0m\u001b[1;32m     33\u001b[0m \u001b[0mprint\u001b[0m\u001b[0;34m(\u001b[0m\u001b[0mhouse\u001b[0m\u001b[0;34m.\u001b[0m\u001b[0m_price\u001b[0m\u001b[0;34m)\u001b[0m\u001b[0;34m\u001b[0m\u001b[0;34m\u001b[0m\u001b[0m\n",
      "\u001b[0;32m<ipython-input-124-4a2968a04e0f>\u001b[0m in \u001b[0;36mprice\u001b[0;34m(self, new_price)\u001b[0m\n\u001b[1;32m     16\u001b[0m             \u001b[0mself\u001b[0m\u001b[0;34m.\u001b[0m\u001b[0m_price\u001b[0m \u001b[0;34m=\u001b[0m \u001b[0mnew_price\u001b[0m\u001b[0;34m\u001b[0m\u001b[0;34m\u001b[0m\u001b[0m\n\u001b[1;32m     17\u001b[0m         \u001b[0;32melse\u001b[0m\u001b[0;34m:\u001b[0m\u001b[0;34m\u001b[0m\u001b[0;34m\u001b[0m\u001b[0m\n\u001b[0;32m---> 18\u001b[0;31m             \u001b[0;32mraise\u001b[0m \u001b[0mValueError\u001b[0m\u001b[0;34m(\u001b[0m\u001b[0;34m\"Not a Float\"\u001b[0m\u001b[0;34m)\u001b[0m\u001b[0;34m\u001b[0m\u001b[0;34m\u001b[0m\u001b[0m\n\u001b[0m\u001b[1;32m     19\u001b[0m \u001b[0;34m\u001b[0m\u001b[0m\n\u001b[1;32m     20\u001b[0m     \u001b[0;34m@\u001b[0m\u001b[0mprice\u001b[0m\u001b[0;34m.\u001b[0m\u001b[0mdeleter\u001b[0m\u001b[0;34m\u001b[0m\u001b[0;34m\u001b[0m\u001b[0m\n",
      "\u001b[0;31mValueError\u001b[0m: Not a Float"
     ]
    }
   ],
   "source": [
    "# @property decorator\n",
    "class House:\n",
    "\n",
    "    def __init__(self, price):\n",
    "        self._price = price\n",
    "    \n",
    "    @property\n",
    "    def price(self):\n",
    "        print(\"Calling Getter !\")\n",
    "        return self._price\n",
    "\n",
    "    @price.setter\n",
    "    def price(self, new_price):\n",
    "        print(\"Calling Setter !\")\n",
    "        if(new_price > 100 and isinstance(new_price, float)):\n",
    "            self._price = new_price\n",
    "        else:\n",
    "            raise ValueError(\"Not a Float\")\n",
    "    \n",
    "    @price.deleter\n",
    "    def price(self):\n",
    "        del self._price\n",
    "\n",
    "\n",
    "house = House(10)\n",
    "\n",
    "print(house.price)\n",
    "\n",
    "house.price = 1000.0\n",
    "print(house._price)\n",
    "\n",
    "house.price = 2000\n",
    "print(house._price)"
   ]
  },
  {
   "cell_type": "code",
   "execution_count": null,
   "metadata": {},
   "outputs": [],
   "source": []
  }
 ]
}