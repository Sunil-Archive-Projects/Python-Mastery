{
 "cells": [
  {
   "cell_type": "code",
   "execution_count": 4,
   "id": "competitive-criterion",
   "metadata": {},
   "outputs": [
    {
     "data": {
      "text/plain": [
       "2"
      ]
     },
     "execution_count": 4,
     "metadata": {},
     "output_type": "execute_result"
    }
   ],
   "source": [
    "def count_substring(string, sub_string):\n",
    "    count = 0\n",
    "    string_len = len(string)\n",
    "    substring_len = len(sub_string)\n",
    "    \n",
    "    for idx,char in enumerate(string):\n",
    "        if string_len - idx >= substring_len:\n",
    "            if string[idx : idx+substring_len] == sub_string:\n",
    "                count += 1\n",
    "        \n",
    "    return count\n",
    "\n",
    "\n",
    "count_substring('ABCDCDC', 'CDC')"
   ]
  },
  {
   "cell_type": "markdown",
   "id": "sporting-speaking",
   "metadata": {},
   "source": [
    "# Python Awesome Concepts :\n",
    "\n",
    "- any\n",
    "- all\n",
    "- lambda\n",
    "- map\n",
    "- filer"
   ]
  },
  {
   "cell_type": "code",
   "execution_count": 16,
   "id": "flying-jackson",
   "metadata": {},
   "outputs": [
    {
     "name": "stdout",
     "output_type": "stream",
     "text": [
      "True\n",
      "True\n",
      "True\n",
      "True\n",
      "True\n"
     ]
    }
   ],
   "source": [
    "str = 'qA1#'\n",
    "\n",
    "print(any(c.isalpha() for c in str))\n",
    "print(any(c.isnumeric() for c in str))\n",
    "print(any(c.isalnum() for c in str))\n",
    "print(any(c.islower() for c in str))\n",
    "print(any(c.isupper() for c in str))"
   ]
  },
  {
   "cell_type": "code",
   "execution_count": 15,
   "id": "amateur-preparation",
   "metadata": {},
   "outputs": [
    {
     "name": "stdout",
     "output_type": "stream",
     "text": [
      "False\n",
      "False\n",
      "False\n",
      "False\n",
      "False\n"
     ]
    }
   ],
   "source": [
    "str = 'qA1#'\n",
    "\n",
    "print(all(c.isalpha() for c in str))\n",
    "print(all(c.isnumeric() for c in str))\n",
    "print(all(c.isalnum() for c in str))\n",
    "print(all(c.islower() for c in str))\n",
    "print(all(c.isupper() for c in str))"
   ]
  },
  {
   "cell_type": "code",
   "execution_count": 19,
   "id": "continental-poverty",
   "metadata": {},
   "outputs": [],
   "source": [
    "# Non-lambda\n",
    "def double_it_old(x):\n",
    "    return x*2\n",
    "\n",
    "# Lambda \n",
    "double_it = lambda x : x*2"
   ]
  },
  {
   "cell_type": "code",
   "execution_count": 20,
   "id": "welcome-jacob",
   "metadata": {},
   "outputs": [
    {
     "data": {
      "text/plain": [
       "20"
      ]
     },
     "execution_count": 20,
     "metadata": {},
     "output_type": "execute_result"
    }
   ],
   "source": [
    "double_it(10)"
   ]
  },
  {
   "cell_type": "code",
   "execution_count": 34,
   "id": "liberal-prophet",
   "metadata": {},
   "outputs": [
    {
     "name": "stdout",
     "output_type": "stream",
     "text": [
      "[2, 4, 6, 8, 10]\n",
      "[3, 6, 9, 12, 15]\n",
      "[7, 9, 11, 13, 15]\n"
     ]
    }
   ],
   "source": [
    "numbers = [1,2,3,4,5]\n",
    "\n",
    "#map without lambda\n",
    "def double_it(x):\n",
    "    return x*2\n",
    "numbers_doubled = map(double_it, numbers)\n",
    "print(list(numbers_doubled))\n",
    "\n",
    "\n",
    "#map with lambda\n",
    "numbers_tripled= map(lambda x:x*3,numbers)\n",
    "print(list(numbers_tripled))\n",
    "\n",
    "\n",
    "# loop through two list in one go\n",
    "\n",
    "num1 = [1,2,3,4,5]\n",
    "num2 = [6,7,8,9,10]\n",
    "\n",
    "print(\n",
    "    list(\n",
    "        map(lambda x,y:x+y, num1, num2)\n",
    "    )\n",
    ")"
   ]
  },
  {
   "cell_type": "code",
   "execution_count": 35,
   "id": "average-narrative",
   "metadata": {},
   "outputs": [
    {
     "name": "stdout",
     "output_type": "stream",
     "text": [
      "[1, 3, 5, 13]\n",
      "[0, 2, 8]\n"
     ]
    }
   ],
   "source": [
    "# filter with lambda\n",
    "# a list contains both even and odd numbers.  \n",
    "seq = [0, 1, 2, 3, 5, 8, 13] \n",
    "  \n",
    "# result contains odd numbers of the list \n",
    "result = filter(lambda x: x % 2 != 0, seq) \n",
    "print(list(result)) \n",
    "  \n",
    "# result contains even numbers of the list \n",
    "result = filter(lambda x: x % 2 == 0, seq) \n",
    "print(list(result)) \n",
    "\n",
    "# result "
   ]
  },
  {
   "cell_type": "code",
   "execution_count": null,
   "id": "overhead-ownership",
   "metadata": {},
   "outputs": [],
   "source": []
  }
 ],
 "metadata": {
  "kernelspec": {
   "display_name": "Python 3",
   "language": "python",
   "name": "python3"
  },
  "language_info": {
   "codemirror_mode": {
    "name": "ipython",
    "version": 3
   },
   "file_extension": ".py",
   "mimetype": "text/x-python",
   "name": "python",
   "nbconvert_exporter": "python",
   "pygments_lexer": "ipython3",
   "version": "3.8.2"
  }
 },
 "nbformat": 4,
 "nbformat_minor": 5
}
