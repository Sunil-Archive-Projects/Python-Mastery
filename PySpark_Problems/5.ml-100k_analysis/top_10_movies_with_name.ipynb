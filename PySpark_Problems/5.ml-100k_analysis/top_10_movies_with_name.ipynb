{
 "metadata": {
  "language_info": {
   "codemirror_mode": {
    "name": "ipython",
    "version": 3
   },
   "file_extension": ".py",
   "mimetype": "text/x-python",
   "name": "python",
   "nbconvert_exporter": "python",
   "pygments_lexer": "ipython3",
   "version": "3.8.2"
  },
  "orig_nbformat": 2,
  "kernelspec": {
   "name": "python382jvsc74a57bd031f2aee4e71d21fbe5cf8b01ff0e069b9275f58929596ceb00d14d90e3e16cd6",
   "display_name": "Python 3.8.2 64-bit"
  },
  "metadata": {
   "interpreter": {
    "hash": "31f2aee4e71d21fbe5cf8b01ff0e069b9275f58929596ceb00d14d90e3e16cd6"
   }
  }
 },
 "nbformat": 4,
 "nbformat_minor": 2,
 "cells": [
  {
   "cell_type": "code",
   "execution_count": 1,
   "metadata": {},
   "outputs": [
    {
     "output_type": "stream",
     "name": "stdout",
     "text": [
      "environ({'ELECTRON_RUN_AS_NODE': '1', 'USER': 'sl044390', 'PATH': '/Users/sl044390/.rvm/gems/ruby-2.6.3/bin:/Users/sl044390/.rvm/gems/ruby-2.6.3@global/bin:/Users/sl044390/.rvm/rubies/ruby-2.6.3/bin:/usr/local/sbin:/usr/local/sbin:/usr/local/opt/v8@3.15/bin:/usr/local/bin:/usr/bin:/bin:/usr/sbin:/sbin:/Applications/Vbrick/nodejs/bin:/Users/sl044390/.rvm/bin', 'LOGNAME': 'sl044390', 'SSH_AUTH_SOCK': '/private/tmp/com.apple.launchd.ahJ5UivuVI/Listeners', 'HOME': '/Users/sl044390', 'SHELL': '/bin/zsh', '__CF_USER_TEXT_ENCODING': '0x55C8A683:0x0:0x2', 'TMPDIR': '/var/folders/tq/4_d0zk2n4rq6r4k8lphnwcyx_wj9m3/T/', 'XPC_SERVICE_NAME': 'com.microsoft.VSCode.14068', 'XPC_FLAGS': '0x0', 'ORIGINAL_XDG_CURRENT_DESKTOP': 'undefined', 'VSCODE_CWD': '/', 'VSCODE_NLS_CONFIG': '{\"locale\":\"en-gb\",\"availableLanguages\":{},\"_languagePackSupport\":true}', 'VSCODE_NODE_CACHED_DATA_DIR': '/Users/sl044390/Library/Application Support/Code/CachedData/c185983a683d14c396952dd432459097bc7f757f', 'VSCODE_IPC_HOOK': '/Users/sl044390/Library/Application Support/Code/1.55.0-main.sock', 'VSCODE_PID': '1087', 'SHLVL': '0', 'PWD': '/', 'OLDPWD': '/', 'ZSH': '/Users/sl044390/.oh-my-zsh', 'PAGER': 'cat', 'LESS': '-R', 'LSCOLORS': 'Gxfxcxdxbxegedabagacad', 'P9K_SSH': '0', 'rvm_prefix': '/Users/sl044390', 'rvm_path': '/Users/sl044390/.rvm', 'rvm_bin_path': '/Users/sl044390/.rvm/bin', 'rvm_version': '1.29.10 (latest)', 'GEM_HOME': '/Users/sl044390/.rvm/gems/ruby-2.6.3', 'GEM_PATH': '/Users/sl044390/.rvm/gems/ruby-2.6.3:/Users/sl044390/.rvm/gems/ruby-2.6.3@global', 'MY_RUBY_HOME': '/Users/sl044390/.rvm/rubies/ruby-2.6.3', 'IRBRC': '/Users/sl044390/.rvm/rubies/ruby-2.6.3/.irbrc', 'RUBY_VERSION': 'ruby-2.6.3', '_': '/Applications/Visual Studio Code.app/Contents/MacOS/Electron', 'VSCODE_AMD_ENTRYPOINT': 'vs/workbench/services/extensions/node/extensionHostProcess', 'VSCODE_PIPE_LOGGING': 'true', 'VSCODE_VERBOSE_LOGGING': 'true', 'VSCODE_LOG_NATIVE': 'false', 'VSCODE_IPC_HOOK_EXTHOST': '/var/folders/tq/4_d0zk2n4rq6r4k8lphnwcyx_wj9m3/T/vscode-ipc-8f74e57e-4c14-4e16-98a3-839096dbafb9.sock', 'VSCODE_HANDLES_UNCAUGHT_ERRORS': 'true', 'VSCODE_LOG_STACK': 'false', 'APPLICATION_INSIGHTS_NO_DIAGNOSTIC_CHANNEL': 'true', 'PYTHONPATH': '/Users/sl044390/.vscode/extensions/ms-toolsai.jupyter-2021.5.702919634/pythonFiles:/Users/sl044390/.vscode/extensions/ms-toolsai.jupyter-2021.5.702919634/pythonFiles/lib/python', 'PYTHONUNBUFFERED': '1', 'PYTHONIOENCODING': 'utf-8', 'SDKROOT': '/Library/Developer/CommandLineTools/SDKs/MacOSX.sdk', 'CPATH': '/usr/local/include', 'LIBRARY_PATH': '/usr/local/lib', '__PYVENV_LAUNCHER__': '/Library/Developer/CommandLineTools/usr/bin/python3', 'LC_CTYPE': 'UTF-8', 'JPY_PARENT_PID': '90387', 'TERM': 'xterm-color', 'CLICOLOR': '1', 'GIT_PAGER': 'cat', 'MPLBACKEND': 'module://ipykernel.pylab.backend_inline', 'PYSPARK_PYTHON': '/usr/bin/python3', 'PYSPARK_DRIVER_PYTHON': '/usr/bin/python3', 'PYSPARK_DRIVER_PYTHON_OPTS': 'notebook'})\n"
     ]
    }
   ],
   "source": [
    "import os \n",
    "\n",
    "os.environ['PYSPARK_PYTHON']='/usr/bin/python3'\n",
    "os.environ['PYSPARK_DRIVER_PYTHON']='/usr/bin/python3'\n",
    "os.environ['PYSPARK_DRIVER_PYTHON_OPTS']='notebook'\n",
    "\n",
    "from pyspark.sql import SparkSession\n",
    "\n",
    "spark = SparkSession.builder.appName(\"movie_analysis_with_names\").master(\"local[*]\").getOrCreate()"
   ]
  },
  {
   "cell_type": "code",
   "execution_count": 2,
   "metadata": {
    "tags": []
   },
   "outputs": [],
   "source": [
    "import codecs\n",
    "\n",
    "def loadMovieNames():\n",
    "    movieNames = {}\n",
    "    with codecs.open(\"./ml-100k/u.item\",encoding = \"ISO-8859-1\", errors = \"ignore\") as f:\n",
    "        for line in f:\n",
    "            fields = line.split('|')\n",
    "            movieNames[int(fields[0])] = fields[1]\n",
    "    return movieNames\n",
    "\n",
    "nameDict = spark.sparkContext.broadcast(loadMovieNames())\n"
   ]
  },
  {
   "cell_type": "code",
   "execution_count": 3,
   "metadata": {},
   "outputs": [],
   "source": [
    "from pyspark.sql.types import IntegerType, LongType, StructField, StructType\n",
    "\n",
    "schema = StructType([\n",
    "    StructField(\"user_id\", IntegerType(), True),\n",
    "    StructField(\"movie_id\", IntegerType(), True),\n",
    "    StructField(\"rating\", IntegerType(), True),\n",
    "    StructField(\"timestamp\", LongType(), True)\n",
    "])\n",
    "\n",
    "movies_data = spark.read.csv(\"./ml-100k/u.data\", sep=\"\\t\", schema= schema)"
   ]
  },
  {
   "cell_type": "code",
   "execution_count": 4,
   "metadata": {},
   "outputs": [
    {
     "output_type": "stream",
     "name": "stdout",
     "text": [
      "+--------+-----+\n|movie_id|count|\n+--------+-----+\n|     496|  231|\n|     471|  221|\n|     463|   71|\n|     148|  128|\n|    1342|    2|\n|     833|   49|\n|    1088|   13|\n|    1591|    6|\n|    1238|    8|\n|    1580|    1|\n|    1645|    1|\n|     392|   68|\n|     623|   39|\n|     540|   43|\n|     858|    3|\n|     737|   59|\n|     243|  132|\n|    1025|   44|\n|    1084|   21|\n|    1127|   11|\n+--------+-----+\nonly showing top 20 rows\n\n"
     ]
    }
   ],
   "source": [
    "from pyspark.sql.functions import count, udf, desc\n",
    "\n",
    "movie_counts= movies_data.groupBy(\"movie_id\").agg(count(\"movie_id\").alias(\"count\"))\n",
    "movie_counts.show()"
   ]
  },
  {
   "cell_type": "code",
   "execution_count": 5,
   "metadata": {},
   "outputs": [],
   "source": [
    "def lookupName(movieId):\n",
    "    return nameDict.value[movieId]\n",
    "\n",
    "lookupNameUDF = udf(lookupName)"
   ]
  },
  {
   "cell_type": "code",
   "execution_count": 6,
   "metadata": {},
   "outputs": [],
   "source": [
    "movie_with_names = movie_counts.withColumn(\"Title\", lookupNameUDF(movie_counts[\"movie_id\"])).orderBy(desc(\"count\"))"
   ]
  },
  {
   "cell_type": "code",
   "execution_count": 7,
   "metadata": {},
   "outputs": [
    {
     "output_type": "stream",
     "name": "stdout",
     "text": [
      "+--------+-----+--------------------+\n|movie_id|count|               Title|\n+--------+-----+--------------------+\n|      50|  583|    Star Wars (1977)|\n|     258|  509|      Contact (1997)|\n|     100|  508|        Fargo (1996)|\n|     181|  507|Return of the Jed...|\n|     294|  485|    Liar Liar (1997)|\n|     286|  481|English Patient, ...|\n|     288|  478|       Scream (1996)|\n|       1|  452|    Toy Story (1995)|\n|     300|  431|Air Force One (1997)|\n|     121|  429|Independence Day ...|\n|     174|  420|Raiders of the Lo...|\n|     127|  413|Godfather, The (1...|\n|      56|  394| Pulp Fiction (1994)|\n|       7|  392|Twelve Monkeys (1...|\n|      98|  390|Silence of the La...|\n|     237|  384|Jerry Maguire (1996)|\n|     117|  378|    Rock, The (1996)|\n|     172|  367|Empire Strikes Ba...|\n|     222|  365|Star Trek: First ...|\n|     204|  350|Back to the Futur...|\n+--------+-----+--------------------+\nonly showing top 20 rows\n\n"
     ]
    }
   ],
   "source": [
    "movie_with_names.show()"
   ]
  }
 ]
}