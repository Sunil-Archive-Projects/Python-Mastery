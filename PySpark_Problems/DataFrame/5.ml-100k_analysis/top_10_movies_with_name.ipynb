{
 "metadata": {
  "language_info": {
   "codemirror_mode": {
    "name": "ipython",
    "version": 3
   },
   "file_extension": ".py",
   "mimetype": "text/x-python",
   "name": "python",
   "nbconvert_exporter": "python",
   "pygments_lexer": "ipython3",
   "version": "3.8.2"
  },
  "orig_nbformat": 2,
  "kernelspec": {
   "name": "python382jvsc74a57bd031f2aee4e71d21fbe5cf8b01ff0e069b9275f58929596ceb00d14d90e3e16cd6",
   "display_name": "Python 3.8.2 64-bit"
  },
  "metadata": {
   "interpreter": {
    "hash": "31f2aee4e71d21fbe5cf8b01ff0e069b9275f58929596ceb00d14d90e3e16cd6"
   }
  }
 },
 "nbformat": 4,
 "nbformat_minor": 2,
 "cells": [
  {
   "cell_type": "code",
   "execution_count": 1,
   "metadata": {},
   "outputs": [],
   "source": [
    "import os \n",
    "\n",
    "os.environ['PYSPARK_PYTHON']='/usr/bin/python3'\n",
    "os.environ['PYSPARK_DRIVER_PYTHON']='/usr/bin/python3'\n",
    "os.environ['PYSPARK_DRIVER_PYTHON_OPTS']='notebook'\n",
    "\n",
    "from pyspark.sql import SparkSession\n",
    "\n",
    "spark = SparkSession.builder.appName(\"movie_analysis_with_names\").master(\"local[*]\").getOrCreate()"
   ]
  },
  {
   "cell_type": "code",
   "execution_count": 2,
   "metadata": {
    "tags": []
   },
   "outputs": [],
   "source": [
    "import codecs\n",
    "\n",
    "def loadMovieNames():\n",
    "    movieNames = {}\n",
    "    with codecs.open(\"./ml-100k/u.item\",encoding = \"ISO-8859-1\", errors = \"ignore\") as f:\n",
    "        for line in f:\n",
    "            fields = line.split('|')\n",
    "            movieNames[int(fields[0])] = fields[1]\n",
    "    return movieNames\n",
    "\n",
    "nameDict = spark.sparkContext.broadcast(loadMovieNames())\n"
   ]
  },
  {
   "cell_type": "code",
   "execution_count": 3,
   "metadata": {},
   "outputs": [],
   "source": [
    "from pyspark.sql.types import IntegerType, LongType, StructField, StructType\n",
    "\n",
    "schema = StructType([\n",
    "    StructField(\"user_id\", IntegerType(), True),\n",
    "    StructField(\"movie_id\", IntegerType(), True),\n",
    "    StructField(\"rating\", IntegerType(), True),\n",
    "    StructField(\"timestamp\", LongType(), True)\n",
    "])\n",
    "\n",
    "movies_data = spark.read.csv(\"./ml-100k/u.data\", sep=\"\\t\", schema= schema)"
   ]
  },
  {
   "cell_type": "code",
   "execution_count": 4,
   "metadata": {},
   "outputs": [
    {
     "output_type": "stream",
     "name": "stdout",
     "text": [
      "+--------+-----+\n|movie_id|count|\n+--------+-----+\n|     496|  231|\n|     471|  221|\n|     463|   71|\n|     148|  128|\n|    1342|    2|\n|     833|   49|\n|    1088|   13|\n|    1591|    6|\n|    1238|    8|\n|    1580|    1|\n|    1645|    1|\n|     392|   68|\n|     623|   39|\n|     540|   43|\n|     858|    3|\n|     737|   59|\n|     243|  132|\n|    1025|   44|\n|    1084|   21|\n|    1127|   11|\n+--------+-----+\nonly showing top 20 rows\n\n"
     ]
    }
   ],
   "source": [
    "from pyspark.sql.functions import count, udf, desc\n",
    "\n",
    "movie_counts= movies_data.groupBy(\"movie_id\").agg(count(\"movie_id\").alias(\"count\"))\n",
    "movie_counts.show()"
   ]
  },
  {
   "cell_type": "code",
   "execution_count": 5,
   "metadata": {},
   "outputs": [],
   "source": [
    "def lookupName(movieId):\n",
    "    return nameDict.value[movieId]\n",
    "\n",
    "lookupNameUDF = udf(lookupName)"
   ]
  },
  {
   "cell_type": "code",
   "execution_count": 6,
   "metadata": {},
   "outputs": [],
   "source": [
    "movie_with_names = movie_counts.withColumn(\"Title\", lookupNameUDF(movie_counts[\"movie_id\"])).orderBy(desc(\"count\"))"
   ]
  },
  {
   "cell_type": "code",
   "execution_count": 7,
   "metadata": {},
   "outputs": [
    {
     "output_type": "stream",
     "name": "stdout",
     "text": [
      "+--------+-----+--------------------+\n|movie_id|count|               Title|\n+--------+-----+--------------------+\n|      50|  583|    Star Wars (1977)|\n|     258|  509|      Contact (1997)|\n|     100|  508|        Fargo (1996)|\n|     181|  507|Return of the Jed...|\n|     294|  485|    Liar Liar (1997)|\n|     286|  481|English Patient, ...|\n|     288|  478|       Scream (1996)|\n|       1|  452|    Toy Story (1995)|\n|     300|  431|Air Force One (1997)|\n|     121|  429|Independence Day ...|\n|     174|  420|Raiders of the Lo...|\n|     127|  413|Godfather, The (1...|\n|      56|  394| Pulp Fiction (1994)|\n|       7|  392|Twelve Monkeys (1...|\n|      98|  390|Silence of the La...|\n|     237|  384|Jerry Maguire (1996)|\n|     117|  378|    Rock, The (1996)|\n|     172|  367|Empire Strikes Ba...|\n|     222|  365|Star Trek: First ...|\n|     204|  350|Back to the Futur...|\n+--------+-----+--------------------+\nonly showing top 20 rows\n\n"
     ]
    }
   ],
   "source": [
    "movie_with_names.show()"
   ]
  }
 ]
}