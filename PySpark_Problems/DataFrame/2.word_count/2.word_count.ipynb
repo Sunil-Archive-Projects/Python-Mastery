{
 "metadata": {
  "language_info": {
   "codemirror_mode": {
    "name": "ipython",
    "version": 3
   },
   "file_extension": ".py",
   "mimetype": "text/x-python",
   "name": "python",
   "nbconvert_exporter": "python",
   "pygments_lexer": "ipython3",
   "version": "3.8.2"
  },
  "orig_nbformat": 2,
  "kernelspec": {
   "name": "python382jvsc74a57bd031f2aee4e71d21fbe5cf8b01ff0e069b9275f58929596ceb00d14d90e3e16cd6",
   "display_name": "Python 3.8.2 64-bit"
  },
  "metadata": {
   "interpreter": {
    "hash": "31f2aee4e71d21fbe5cf8b01ff0e069b9275f58929596ceb00d14d90e3e16cd6"
   }
  }
 },
 "nbformat": 4,
 "nbformat_minor": 2,
 "cells": [
  {
   "cell_type": "code",
   "execution_count": 1,
   "metadata": {},
   "outputs": [],
   "source": [
    "from pyspark.sql import SparkSession\n",
    "\n",
    "spark = SparkSession.builder.appName('wordCount').master(\"local[*]\").getOrCreate()"
   ]
  },
  {
   "cell_type": "code",
   "execution_count": 81,
   "metadata": {},
   "outputs": [
    {
     "output_type": "stream",
     "name": "stdout",
     "text": [
      "+--------+-----+\n|    word|count|\n+--------+-----+\n|     you| 1878|\n|      to| 1828|\n|    your| 1420|\n|     the| 1292|\n|       a| 1191|\n|      of|  970|\n|     and|  934|\n|    that|  747|\n|      it|  649|\n|      in|  616|\n|      is|  560|\n|     for|  537|\n|      on|  428|\n|     are|  424|\n|      if|  411|\n|       s|  391|\n|       i|  387|\n|business|  383|\n|     can|  376|\n|      be|  369|\n+--------+-----+\nonly showing top 20 rows\n\n"
     ]
    }
   ],
   "source": [
    "from pyspark.sql.functions import split, explode, lower, count\n",
    "\n",
    "data = spark.read.text(\"book.txt\")\n",
    "data = data.select(explode(split(data.value, \"\\\\W+\")))\n",
    "data = data.filter(data['col'] != \"\")\n",
    "words = data.select(lower(data['col']).alias(\"word\")).groupBy(\"word\").agg(count(\"word\").alias(\"count\"))\n",
    "words = words.orderBy(words[\"count\"].desc())\n",
    "\n",
    "words.show()"
   ]
  },
  {
   "cell_type": "code",
   "execution_count": null,
   "metadata": {},
   "outputs": [],
   "source": []
  }
 ]
}