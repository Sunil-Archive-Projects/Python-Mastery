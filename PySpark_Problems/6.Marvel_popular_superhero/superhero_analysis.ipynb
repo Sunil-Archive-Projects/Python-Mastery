{
 "metadata": {
  "language_info": {
   "codemirror_mode": {
    "name": "ipython",
    "version": 3
   },
   "file_extension": ".py",
   "mimetype": "text/x-python",
   "name": "python",
   "nbconvert_exporter": "python",
   "pygments_lexer": "ipython3",
   "version": "3.8.2"
  },
  "orig_nbformat": 2,
  "kernelspec": {
   "name": "python382jvsc74a57bd031f2aee4e71d21fbe5cf8b01ff0e069b9275f58929596ceb00d14d90e3e16cd6",
   "display_name": "Python 3.8.2 64-bit"
  },
  "metadata": {
   "interpreter": {
    "hash": "31f2aee4e71d21fbe5cf8b01ff0e069b9275f58929596ceb00d14d90e3e16cd6"
   }
  }
 },
 "nbformat": 4,
 "nbformat_minor": 2,
 "cells": [
  {
   "cell_type": "code",
   "execution_count": 1,
   "metadata": {},
   "outputs": [],
   "source": [
    "from pyspark.sql import SparkSession\n",
    "\n",
    "spark = SparkSession.builder.appName(\"marvel_most_popular_hero\").master(\"local[*]\").getOrCreate()"
   ]
  },
  {
   "cell_type": "code",
   "execution_count": 2,
   "metadata": {},
   "outputs": [],
   "source": [
    "from pyspark.sql.types import StructField, StructType, IntegerType, StringType\n",
    "\n",
    "schema = StructType([\n",
    "    StructField(\"hero_id\", IntegerType(), True),\n",
    "    StructField(\"name\", StringType(), True)\n",
    "])"
   ]
  },
  {
   "cell_type": "code",
   "execution_count": 3,
   "metadata": {},
   "outputs": [],
   "source": [
    "names = spark.read.csv(\"Marvel_Names\", sep = \" \", schema= schema)\n",
    "lines = spark.read.text(\"Marvel_Graph\")"
   ]
  },
  {
   "cell_type": "code",
   "execution_count": 4,
   "metadata": {},
   "outputs": [
    {
     "output_type": "stream",
     "name": "stdout",
     "text": [
      "+-------+--------------------+----------------+\n|hero_id|name                |connection_count|\n+-------+--------------------+----------------+\n|859    |CAPTAIN AMERICA     |1937            |\n|5306   |SPIDER-MAN/PETER PAR|1745            |\n|2664   |IRON MAN/TONY STARK |1532            |\n|5716   |THING/BENJAMIN J. GR|1429            |\n|6306   |WOLVERINE/LOGAN     |1397            |\n|3805   |MR. FANTASTIC/REED R|1389            |\n|2557   |HUMAN TORCH/JOHNNY S|1374            |\n|4898   |SCARLET WITCH/WANDA |1348            |\n|5736   |THOR/DR. DONALD BLAK|1292            |\n|403    |BEAST/HENRY &HANK& P|1283            |\n+-------+--------------------+----------------+\nonly showing top 10 rows\n\n"
     ]
    }
   ],
   "source": [
    "from pyspark.sql.functions import split, sum, col, size, desc, min\n",
    "\n",
    "connections = lines.withColumn(\"id\", split(lines[\"value\"], ' ')[0]) \n",
    "connections = connections.withColumn(\"connection_count\", size(split(lines[\"value\"],\" \"))-1) \n",
    "connections = connections.select(\"id\", \"connection_count\")\n",
    "connections = connections.groupBy(\"id\").agg(sum(\"connection_count\").alias(\"connection_count\")).orderBy(desc(\"connection_count\"))\n",
    "\n",
    "inner_join = connections.join(names, names.hero_id == connections.id).orderBy(desc(\"connection_count\"))\n",
    "\n",
    "inner_join = inner_join.select(\"hero_id\", \"name\", \"connection_count\")\n",
    "\n",
    "inner_join.show(10, truncate = False)\n",
    "\n"
   ]
  },
  {
   "cell_type": "code",
   "execution_count": 5,
   "metadata": {},
   "outputs": [
    {
     "output_type": "stream",
     "name": "stdout",
     "text": [
      "+-------+--------------------+----------------+\n|hero_id|                name|connection_count|\n+-------+--------------------+----------------+\n|    467|        BERSERKER II|               1|\n|    577|              BLARE/|               1|\n|   3490|MARVEL BOY II/MARTIN|               1|\n|   2139|      GIURESCU, RADU|               1|\n|   3489|MARVEL BOY/MARTIN BU|               1|\n|   1089|       CLUMSY FOULUP|               1|\n|   1841|              FENRIS|               1|\n|   4517|              RANDAK|               1|\n|   5028|           SHARKSKIN|               1|\n|    835|     CALLAHAN, DANNY|               1|\n|   1408|         DEATHCHARGE|               1|\n|   4784|                RUNE|               1|\n|   4602|         RED WOLF II|               1|\n|   4945|         SEA LEOPARD|               1|\n|   6411|              ZANTOR|               1|\n|   3014|JOHNSON, LYNDON BAIN|               1|\n|   3298|          LUNATIK II|               1|\n|   2911|                KULL|               1|\n|   2117|GERVASE, LADY ALYSSA|               1|\n+-------+--------------------+----------------+\n\n"
     ]
    }
   ],
   "source": [
    "#all superheroes with minimum connections\n",
    "min_connections = inner_join.agg(min(inner_join[\"connection_count\"])).collect()\n",
    "min_connections = int(min_connections[0][0])\n",
    "\n",
    "min_connection_heroes = inner_join.filter(inner_join[\"connection_count\"] == min_connections)\n",
    "\n",
    "min_connection_heroes.show()\n"
   ]
  },
  {
   "cell_type": "code",
   "execution_count": null,
   "metadata": {},
   "outputs": [],
   "source": []
  }
 ]
}