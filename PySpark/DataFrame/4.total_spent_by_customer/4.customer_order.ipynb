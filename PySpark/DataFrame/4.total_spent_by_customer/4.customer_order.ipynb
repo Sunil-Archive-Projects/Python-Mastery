{
 "metadata": {
  "language_info": {
   "codemirror_mode": {
    "name": "ipython",
    "version": 3
   },
   "file_extension": ".py",
   "mimetype": "text/x-python",
   "name": "python",
   "nbconvert_exporter": "python",
   "pygments_lexer": "ipython3",
   "version": "3.8.2"
  },
  "orig_nbformat": 2,
  "kernelspec": {
   "name": "python382jvsc74a57bd031f2aee4e71d21fbe5cf8b01ff0e069b9275f58929596ceb00d14d90e3e16cd6",
   "display_name": "Python 3.8.2 64-bit"
  },
  "metadata": {
   "interpreter": {
    "hash": "31f2aee4e71d21fbe5cf8b01ff0e069b9275f58929596ceb00d14d90e3e16cd6"
   }
  }
 },
 "nbformat": 4,
 "nbformat_minor": 2,
 "cells": [
  {
   "cell_type": "code",
   "execution_count": 12,
   "metadata": {},
   "outputs": [],
   "source": [
    "from pyspark.sql import SparkSession\n",
    "\n",
    "spark = SparkSession.builder.appName('customer_order').master(\"local[*]\").getOrCreate()"
   ]
  },
  {
   "cell_type": "code",
   "execution_count": 13,
   "metadata": {},
   "outputs": [],
   "source": [
    "from pyspark.sql.types import StructType, StructField, StringType, IntegerType, FloatType\n",
    "\n",
    "schema = StructType([\n",
    "    StructField(\"cust_id\", StringType(), True),\n",
    "    StructField(\"item_id\", IntegerType(), True),\n",
    "    StructField(\"amount\", FloatType(), True)\n",
    "])\n",
    "\n",
    "data = spark.read.csv(\"customer-orders.csv\", schema=schema)"
   ]
  },
  {
   "cell_type": "code",
   "execution_count": 14,
   "metadata": {},
   "outputs": [
    {
     "output_type": "stream",
     "name": "stdout",
     "text": [
      "+-------+-------+------+\n|cust_id|item_id|amount|\n+-------+-------+------+\n|     44|   8602| 37.19|\n|     35|   5368| 65.89|\n|      2|   3391| 40.64|\n|     47|   6694| 14.98|\n|     29|    680| 13.08|\n|     91|   8900| 24.59|\n|     70|   3959| 68.68|\n|     85|   1733| 28.53|\n|     53|   9900| 83.55|\n|     14|   1505|  4.32|\n|     51|   3378|  19.8|\n|     42|   6926| 57.77|\n|      2|   4424| 55.77|\n|     79|   9291| 33.17|\n|     50|   3901| 23.57|\n|     20|   6633|  6.49|\n|     15|   6148| 65.53|\n|     44|   8331| 99.19|\n|      5|   3505| 64.18|\n|     48|   5539| 32.42|\n+-------+-------+------+\nonly showing top 20 rows\n\n"
     ]
    }
   ],
   "source": [
    "data.show()"
   ]
  },
  {
   "cell_type": "code",
   "execution_count": 15,
   "metadata": {},
   "outputs": [],
   "source": [
    "from pyspark.sql.functions import sum, format_number\n",
    "\n",
    "cust_data = data.select(\"cust_id\", \"amount\").groupBy(\"cust_id\").agg(format_number(sum(\"amount\"),2).alias(\"Sum\"))\n",
    "\n",
    "cust_data = cust_data.orderBy(cust_data[\"Sum\"].desc())\n",
    "\n"
   ]
  },
  {
   "cell_type": "code",
   "execution_count": 16,
   "metadata": {},
   "outputs": [
    {
     "output_type": "stream",
     "name": "stdout",
     "text": [
      "+-------+--------+\n|cust_id|     Sum|\n+-------+--------+\n|     68|6,375.45|\n|     73|6,206.20|\n|     39|6,193.11|\n|     54|6,065.39|\n|     71|5,995.66|\n|      2|5,994.59|\n|     97|5,977.19|\n|     46|5,963.11|\n|     42|5,696.84|\n|     59|5,642.89|\n|     41|5,637.62|\n|      0|5,524.95|\n|      8|5,517.24|\n|     85|5,503.43|\n|     61|5,497.48|\n|     32|5,496.05|\n|     58|5,437.73|\n|     63|5,415.15|\n|     15|5,413.51|\n|      6|5,397.88|\n+-------+--------+\nonly showing top 20 rows\n\n"
     ]
    }
   ],
   "source": [
    "cust_data.show()\n",
    "\n",
    "spark.stop()"
   ]
  },
  {
   "cell_type": "code",
   "execution_count": null,
   "metadata": {},
   "outputs": [],
   "source": []
  }
 ]
}