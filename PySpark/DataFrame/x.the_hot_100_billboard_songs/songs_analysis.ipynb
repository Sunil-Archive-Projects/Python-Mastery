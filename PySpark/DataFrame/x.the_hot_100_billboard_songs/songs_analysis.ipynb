{
 "metadata": {
  "language_info": {
   "codemirror_mode": {
    "name": "ipython",
    "version": 3
   },
   "file_extension": ".py",
   "mimetype": "text/x-python",
   "name": "python",
   "nbconvert_exporter": "python",
   "pygments_lexer": "ipython3",
   "version": "3.8.2"
  },
  "orig_nbformat": 2,
  "kernelspec": {
   "name": "python382jvsc74a57bd031f2aee4e71d21fbe5cf8b01ff0e069b9275f58929596ceb00d14d90e3e16cd6",
   "display_name": "Python 3.8.2 64-bit"
  },
  "metadata": {
   "interpreter": {
    "hash": "31f2aee4e71d21fbe5cf8b01ff0e069b9275f58929596ceb00d14d90e3e16cd6"
   }
  }
 },
 "nbformat": 4,
 "nbformat_minor": 2,
 "cells": [
  {
   "cell_type": "code",
   "execution_count": 2,
   "metadata": {},
   "outputs": [],
   "source": [
    "from pyspark.sql import SparkSession"
   ]
  },
  {
   "cell_type": "code",
   "execution_count": 3,
   "metadata": {},
   "outputs": [],
   "source": [
    "spark = SparkSession.builder.appName('billboard_top_100').master(\"local[*]\").getOrCreate()"
   ]
  },
  {
   "cell_type": "code",
   "execution_count": 4,
   "metadata": {},
   "outputs": [],
   "source": [
    "raw_data = spark.read.csv(\"charts.csv\", inferSchema= True, header= True)"
   ]
  },
  {
   "cell_type": "code",
   "execution_count": 20,
   "metadata": {},
   "outputs": [
    {
     "output_type": "stream",
     "name": "stdout",
     "text": [
      "root\n",
      " |-- date: string (nullable = true)\n",
      " |-- rank: integer (nullable = true)\n",
      " |-- song: string (nullable = true)\n",
      " |-- artist: string (nullable = true)\n",
      " |-- last-week: string (nullable = true)\n",
      " |-- peak-rank: double (nullable = true)\n",
      " |-- weeks-on-board: integer (nullable = true)\n",
      "\n",
      "+----------+----+------------------------------------+-------------+-----------+---------+--------------+\n",
      "|date      |rank|song                                |artist       |last-week  |peak-rank|weeks-on-board|\n",
      "+----------+----+------------------------------------+-------------+-----------+---------+--------------+\n",
      "|1988-02-27|95  |\"Kiss And Tell (From \"\"Bright Lights| Big City\"\")\"|Bryan Ferry|null     |95            |\n",
      "+----------+----+------------------------------------+-------------+-----------+---------+--------------+\n",
      "\n"
     ]
    },
    {
     "output_type": "execute_result",
     "data": {
      "text/plain": [
       "DataFrame[count(artist): bigint]"
      ]
     },
     "metadata": {},
     "execution_count": 20
    }
   ],
   "source": [
    "raw_data.printSchema()\n",
    "max_weeks_on_board = raw_data.agg({'weeks-on-board':'max'}).collect()[0][0]\n",
    "raw_data.filter(raw_data[\"weeks-on-board\"] == max_weeks_on_board).show(truncate = False)\n",
    "\n",
    "raw_data.agg({'artist':'count'})"
   ]
  },
  {
   "cell_type": "code",
   "execution_count": 13,
   "metadata": {},
   "outputs": [
    {
     "output_type": "execute_result",
     "data": {
      "text/plain": [
       "95"
      ]
     },
     "metadata": {},
     "execution_count": 13
    }
   ],
   "source": [
    "\n"
   ]
  },
  {
   "cell_type": "code",
   "execution_count": null,
   "metadata": {},
   "outputs": [],
   "source": []
  }
 ]
}