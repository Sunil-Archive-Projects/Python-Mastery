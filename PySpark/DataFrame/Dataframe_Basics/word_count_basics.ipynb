{
 "metadata": {
  "language_info": {
   "codemirror_mode": {
    "name": "ipython",
    "version": 3
   },
   "file_extension": ".py",
   "mimetype": "text/x-python",
   "name": "python",
   "nbconvert_exporter": "python",
   "pygments_lexer": "ipython3",
   "version": "3.8.2"
  },
  "orig_nbformat": 2,
  "kernelspec": {
   "name": "python382jvsc74a57bd031f2aee4e71d21fbe5cf8b01ff0e069b9275f58929596ceb00d14d90e3e16cd6",
   "display_name": "Python 3.8.2 64-bit"
  },
  "metadata": {
   "interpreter": {
    "hash": "31f2aee4e71d21fbe5cf8b01ff0e069b9275f58929596ceb00d14d90e3e16cd6"
   }
  }
 },
 "nbformat": 4,
 "nbformat_minor": 2,
 "cells": [
  {
   "cell_type": "code",
   "execution_count": 46,
   "metadata": {},
   "outputs": [],
   "source": [
    "from pyspark.sql import SparkSession"
   ]
  },
  {
   "cell_type": "code",
   "execution_count": 47,
   "metadata": {},
   "outputs": [],
   "source": [
    "spark = SparkSession.builder.appName('word_count_basics').master('local[*]').getOrCreate()"
   ]
  },
  {
   "cell_type": "code",
   "execution_count": 48,
   "metadata": {},
   "outputs": [
    {
     "output_type": "stream",
     "name": "stdout",
     "text": [
      "+--------------------------------------------------------------------------------+\n|value                                                                           |\n+--------------------------------------------------------------------------------+\n|Self-Employment: Building an Internet Business of One                           |\n|Achieving Financial and Personal Freedom through a Lifestyle Technology Business|\n|By Frank Kane                                                                   |\n|                                                                                |\n|                                                                                |\n|                                                                                |\n|Copyright � 2015 Frank Kane.                                                    |\n|All rights reserved worldwide.                                                  |\n|                                                                                |\n|                                                                                |\n|CONTENTS                                                                        |\n|Disclaimer                                                                      |\n|Preface                                                                         |\n|Part I: Making the Big Decision                                                 |\n|Overcoming Inertia                                                              |\n|Fear of Failure                                                                 |\n|Career Indoctrination                                                           |\n|The Carrot on a Stick                                                           |\n|Ego Protection                                                                  |\n|Your Employer as a Security Blanket                                             |\n+--------------------------------------------------------------------------------+\nonly showing top 20 rows\n\n"
     ]
    }
   ],
   "source": [
    "text_content = spark.read.text(\"./data/book.txt\")\n",
    "text_content.show(truncate=False)"
   ]
  },
  {
   "cell_type": "code",
   "execution_count": 49,
   "metadata": {},
   "outputs": [
    {
     "output_type": "stream",
     "name": "stdout",
     "text": [
      "+-------------------------------------------------------------------------------------------+\n|split_data                                                                                 |\n+-------------------------------------------------------------------------------------------+\n|[Self-Employment:, Building, an, Internet, Business, of, One]                              |\n|[Achieving, Financial, and, Personal, Freedom, through, a, Lifestyle, Technology, Business]|\n|[By, Frank, Kane]                                                                          |\n|[]                                                                                         |\n|[]                                                                                         |\n|[]                                                                                         |\n|[Copyright, �, 2015, Frank, Kane., ]                                                       |\n|[All, rights, reserved, worldwide.]                                                        |\n|[]                                                                                         |\n|[]                                                                                         |\n|[CONTENTS]                                                                                 |\n|[Disclaimer]                                                                               |\n|[Preface]                                                                                  |\n|[Part, I:, Making, the, Big, Decision]                                                     |\n|[Overcoming, Inertia]                                                                      |\n|[Fear, of, Failure]                                                                        |\n|[Career, Indoctrination]                                                                   |\n|[The, Carrot, on, a, Stick]                                                                |\n|[Ego, Protection]                                                                          |\n|[Your, Employer, as, a, Security, Blanket]                                                 |\n+-------------------------------------------------------------------------------------------+\nonly showing top 20 rows\n\n"
     ]
    }
   ],
   "source": [
    "from pyspark.sql.functions import split\n",
    "split_by_space_data = text_content.select(split(text_content.value, \" \").alias(\"split_data\"))\n",
    "split_by_space_data.show(truncate=False)"
   ]
  },
  {
   "cell_type": "code",
   "execution_count": 50,
   "metadata": {},
   "outputs": [],
   "source": [
    "from pyspark.sql.functions import explode, count\n",
    "\n",
    "exploded_df = split_by_space_data.select(explode(split_by_space_data.split_data).alias(\"words\"))"
   ]
  },
  {
   "cell_type": "code",
   "execution_count": 51,
   "metadata": {},
   "outputs": [
    {
     "output_type": "stream",
     "name": "stdout",
     "text": [
      "+--------+-----+\n|   words|count|\n+--------+-----+\n|      to| 1789|\n|    your| 1339|\n|     you| 1267|\n|     the| 1176|\n|       a| 1148|\n|      of|  941|\n|     and|  901|\n|    that|  641|\n|      in|  552|\n|      is|  531|\n|     for|  500|\n|      on|  399|\n|     are|  391|\n|      be|  347|\n|       I|  322|\n|     can|  319|\n|      it|  311|\n|    have|  299|\n|      as|  297|\n|    with|  292|\n|      or|  267|\n|business|  261|\n|      If|  237|\n|    will|  220|\n|    this|  208|\n|      my|  199|\n|        |  199|\n|    they|  192|\n|     but|  192|\n|      at|  189|\n+--------+-----+\nonly showing top 30 rows\n\n"
     ]
    }
   ],
   "source": [
    "grouped_df = exploded_df.select(\"words\").groupBy(\"words\").agg(count(\"words\").alias(\"count\"))\n",
    "sorted_grouped_df = grouped_df.orderBy(\"count\", ascending= False)\n",
    "sorted_grouped_df.show(30)"
   ]
  },
  {
   "cell_type": "code",
   "execution_count": null,
   "metadata": {},
   "outputs": [],
   "source": []
  }
 ]
}