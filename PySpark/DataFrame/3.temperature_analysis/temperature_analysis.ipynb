{
 "metadata": {
  "language_info": {
   "codemirror_mode": {
    "name": "ipython",
    "version": 3
   },
   "file_extension": ".py",
   "mimetype": "text/x-python",
   "name": "python",
   "nbconvert_exporter": "python",
   "pygments_lexer": "ipython3",
   "version": "3.8.2"
  },
  "orig_nbformat": 2,
  "kernelspec": {
   "name": "python382jvsc74a57bd031f2aee4e71d21fbe5cf8b01ff0e069b9275f58929596ceb00d14d90e3e16cd6",
   "display_name": "Python 3.8.2 64-bit"
  },
  "metadata": {
   "interpreter": {
    "hash": "31f2aee4e71d21fbe5cf8b01ff0e069b9275f58929596ceb00d14d90e3e16cd6"
   }
  }
 },
 "nbformat": 4,
 "nbformat_minor": 2,
 "cells": [
  {
   "cell_type": "code",
   "execution_count": 5,
   "metadata": {},
   "outputs": [],
   "source": [
    "from pyspark.sql import SparkSession\n",
    "from pyspark.sql.types import StructField, StructType, StringType, IntegerType, FloatType\n",
    "\n",
    "spark = SparkSession.builder.appName('temperatureAnalysis').master(\"local[*]\").getOrCreate()\n"
   ]
  },
  {
   "cell_type": "code",
   "execution_count": 6,
   "metadata": {},
   "outputs": [],
   "source": [
    "schema = StructType([\n",
    "    StructField(\"station_id\", StringType(), True),\n",
    "    StructField(\"date\", IntegerType(), True),\n",
    "    StructField(\"measure_type\", StringType(), True),\n",
    "    StructField(\"temperature\", FloatType(), True)\n",
    "])"
   ]
  },
  {
   "cell_type": "code",
   "execution_count": 8,
   "metadata": {},
   "outputs": [],
   "source": [
    "data = spark.read.csv(\"1800.csv\", schema=schema)"
   ]
  },
  {
   "cell_type": "code",
   "execution_count": 46,
   "metadata": {},
   "outputs": [
    {
     "output_type": "stream",
     "name": "stdout",
     "text": [
      "+-----------+-------------------+---------------------------------+\n| station_id|Minimum Temperature|Minimum Temperature in Fahrenheit|\n+-----------+-------------------+---------------------------------+\n|ITE00100554|             -148.0|                             5.36|\n|EZE00100082|             -135.0|                             7.70|\n+-----------+-------------------+---------------------------------+\n\n"
     ]
    }
   ],
   "source": [
    "from pyspark.sql.functions import min, max, format_number\n",
    "\n",
    "min_temperature_data = data.filter(data[\"measure_type\"] == \"TMIN\")\n",
    "min_temperature_data = min_temperature_data.select(\"station_id\",\"temperature\", \"date\").groupBy(\"station_id\")\n",
    "result = min_temperature_data.agg(min(\"temperature\").alias(\"Minimum Temperature\"))\n",
    "# data.filter(\"station\")\n",
    "result = result.withColumn(\"Minimum Temperature in Fahrenheit\",format_number(result[\"Minimum Temperature\"]*0.1*(9/5)+32, 2) )\n",
    "\n",
    "result.show()"
   ]
  },
  {
   "cell_type": "code",
   "execution_count": null,
   "metadata": {},
   "outputs": [],
   "source": []
  }
 ]
}