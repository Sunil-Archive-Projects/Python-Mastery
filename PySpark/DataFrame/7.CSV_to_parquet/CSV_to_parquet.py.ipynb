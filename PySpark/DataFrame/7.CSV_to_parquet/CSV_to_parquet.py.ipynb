{
 "cells": [
  {
   "cell_type": "code",
   "execution_count": 14,
   "id": "ef4fcb71",
   "metadata": {},
   "outputs": [],
   "source": [
    "from pyspark.sql import SparkSession\n",
    "\n",
    "spark = SparkSession.builder.appName('parquet').master(\"local[*]\").getOrCreate()"
   ]
  },
  {
   "cell_type": "code",
   "execution_count": 15,
   "id": "0f741f88",
   "metadata": {},
   "outputs": [],
   "source": [
    "df = spark.read.csv('orders.csv', header = True)"
   ]
  },
  {
   "cell_type": "code",
   "execution_count": 17,
   "id": "0893a953",
   "metadata": {},
   "outputs": [],
   "source": [
    "df.repartition(1).write.mode('overwrite').parquet('./output')"
   ]
  },
  {
   "cell_type": "code",
   "execution_count": null,
   "id": "5c4a75fc",
   "metadata": {},
   "outputs": [],
   "source": []
  }
 ],
 "metadata": {
  "kernelspec": {
   "display_name": "Python 3 (ipykernel)",
   "language": "python",
   "name": "python3"
  },
  "language_info": {
   "codemirror_mode": {
    "name": "ipython",
    "version": 3
   },
   "file_extension": ".py",
   "mimetype": "text/x-python",
   "name": "python",
   "nbconvert_exporter": "python",
   "pygments_lexer": "ipython3",
   "version": "3.9.5"
  }
 },
 "nbformat": 4,
 "nbformat_minor": 5
}
