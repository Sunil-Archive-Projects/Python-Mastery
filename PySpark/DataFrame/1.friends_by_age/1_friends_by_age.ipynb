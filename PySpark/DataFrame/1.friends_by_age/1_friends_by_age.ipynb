{
 "metadata": {
  "language_info": {
   "codemirror_mode": {
    "name": "ipython",
    "version": 3
   },
   "file_extension": ".py",
   "mimetype": "text/x-python",
   "name": "python",
   "nbconvert_exporter": "python",
   "pygments_lexer": "ipython3",
   "version": "3.8.2"
  },
  "orig_nbformat": 2,
  "kernelspec": {
   "name": "python3",
   "display_name": "Python 3.8.2 64-bit",
   "metadata": {
    "interpreter": {
     "hash": "31f2aee4e71d21fbe5cf8b01ff0e069b9275f58929596ceb00d14d90e3e16cd6"
    }
   }
  }
 },
 "nbformat": 4,
 "nbformat_minor": 2,
 "cells": [
  {
   "cell_type": "code",
   "execution_count": 3,
   "metadata": {},
   "outputs": [],
   "source": [
    "from pyspark.sql import SparkSession\n",
    "\n",
    "spark = SparkSession.builder.appName(\"challenge_one\").master(\"local[*]\").config(\"spark.driver.bindAddress\", \"127.0.0.1\").getOrCreate()"
   ]
  },
  {
   "cell_type": "code",
   "execution_count": 38,
   "metadata": {},
   "outputs": [
    {
     "output_type": "execute_result",
     "data": {
      "text/plain": [
       "[Row(userID=0, name='Will', age=33, friends=385),\n",
       " Row(userID=1, name='Jean-Luc', age=26, friends=2),\n",
       " Row(userID=2, name='Hugh', age=55, friends=221),\n",
       " Row(userID=3, name='Deanna', age=40, friends=465),\n",
       " Row(userID=4, name='Quark', age=68, friends=21),\n",
       " Row(userID=5, name='Weyoun', age=59, friends=318),\n",
       " Row(userID=6, name='Gowron', age=37, friends=220),\n",
       " Row(userID=7, name='Will', age=54, friends=307),\n",
       " Row(userID=8, name='Jadzia', age=38, friends=380),\n",
       " Row(userID=9, name='Hugh', age=27, friends=181)]"
      ]
     },
     "metadata": {},
     "execution_count": 38
    }
   ],
   "source": [
    "data = spark.read.csv(\"fakefriends-header.csv\", inferSchema=True, header=True)\n",
    "data.head(10)\n",
    "# df.describe().show()"
   ]
  },
  {
   "cell_type": "code",
   "execution_count": 51,
   "metadata": {},
   "outputs": [
    {
     "output_type": "stream",
     "name": "stdout",
     "text": [
      "+---+-------+\n|age|Friends|\n+---+-------+\n| 18| 343.38|\n| 19| 213.27|\n| 20| 165.00|\n| 21| 350.88|\n| 22| 206.43|\n| 23| 246.30|\n| 24| 233.80|\n| 25| 197.45|\n| 26| 242.06|\n| 27| 228.12|\n| 28| 209.10|\n| 29| 215.92|\n| 30| 235.82|\n| 31| 267.25|\n| 32| 207.91|\n| 33| 325.33|\n| 34| 245.50|\n| 35| 211.62|\n| 36| 246.60|\n| 37| 249.33|\n+---+-------+\nonly showing top 20 rows\n\n"
     ]
    }
   ],
   "source": [
    "from pyspark.sql.functions import format_number, mean\n",
    "\n",
    "df = data.select('age', 'friends')\n",
    "\n",
    "\"\"\"\n",
    "- groupBy Age.\n",
    "- aggregate by friends. truncate to 2 floating numbers. Alias it to Friends\n",
    "- orderBy age\n",
    "\"\"\"\n",
    "df = df.groupBy(\"age\").agg(format_number(mean('friends'),2).alias(\"Friends\")).orderBy(\"age\").show()\n"
   ]
  },
  {
   "cell_type": "code",
   "execution_count": null,
   "metadata": {},
   "outputs": [],
   "source": []
  }
 ]
}