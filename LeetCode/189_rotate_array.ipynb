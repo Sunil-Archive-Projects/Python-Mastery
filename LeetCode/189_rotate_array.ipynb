{
 "metadata": {
  "language_info": {
   "codemirror_mode": {
    "name": "ipython",
    "version": 3
   },
   "file_extension": ".py",
   "mimetype": "text/x-python",
   "name": "python",
   "nbconvert_exporter": "python",
   "pygments_lexer": "ipython3",
   "version": "3.8.2"
  },
  "orig_nbformat": 2,
  "kernelspec": {
   "name": "python382jvsc74a57bd031f2aee4e71d21fbe5cf8b01ff0e069b9275f58929596ceb00d14d90e3e16cd6",
   "display_name": "Python 3.8.2 64-bit"
  },
  "metadata": {
   "interpreter": {
    "hash": "31f2aee4e71d21fbe5cf8b01ff0e069b9275f58929596ceb00d14d90e3e16cd6"
   }
  }
 },
 "nbformat": 4,
 "nbformat_minor": 2,
 "cells": [
  {
   "source": [
    "# Working :\n",
    "\n",
    "Example : Rotate array [1, 2, 3, 4, 5] by 3\n",
    "\n",
    "Expected Answer : [4, 5, 1, 2, 3]\n",
    "\n",
    "Step 1 : Mod by length of array to eliminate needless looping. E.g. Rotating 5 times in a array of length 5 returns original array.\n",
    "\n",
    "Step 2 : Modify original array by concatenating the slices from n to end AND 0 to n"
   ],
   "cell_type": "markdown",
   "metadata": {}
  },
  {
   "cell_type": "code",
   "execution_count": 78,
   "metadata": {},
   "outputs": [],
   "source": [
    "def rotate_array_method1(a, n):\n",
    "    n = n % len(a)\n",
    "    a[:] = a[n:] + a[:n]\n",
    "    return a"
   ]
  },
  {
   "source": [
    "# Method 2 :\n",
    "\n",
    "Step 1 : Reverse the entire array\n",
    "\n",
    "Step 2 : Reverse the array from 0 to "
   ],
   "cell_type": "markdown",
   "metadata": {}
  },
  {
   "cell_type": "code",
   "execution_count": 107,
   "metadata": {},
   "outputs": [],
   "source": [
    "def rotate_array_method2(a, n):\n",
    "    n = n % len(a)\n",
    "\n",
    "    def rev(start_index, end_index):\n",
    "        while(start_index < end_index):\n",
    "            a[start_index], a[end_index] = a[end_index], a[start_index]\n",
    "            start_index += 1\n",
    "            end_index -= 1\n",
    "\n",
    "    a.reverse()\n",
    "    rev(0, n-1)\n",
    "    rev(n, len(a)-1)\n",
    "\n",
    "    return a "
   ]
  },
  {
   "cell_type": "code",
   "execution_count": 104,
   "metadata": {},
   "outputs": [
    {
     "output_type": "execute_result",
     "data": {
      "text/plain": [
       "[4, 5, 1, 2, 3]"
      ]
     },
     "metadata": {},
     "execution_count": 104
    }
   ],
   "source": [
    "arr = [1, 2, 3, 4 ,5]\n",
    "rotate_array_method1(arr, 3)\n"
   ]
  },
  {
   "cell_type": "code",
   "execution_count": 108,
   "metadata": {},
   "outputs": [
    {
     "output_type": "execute_result",
     "data": {
      "text/plain": [
       "[5, 6, 7, 1, 2, 3, 4]"
      ]
     },
     "metadata": {},
     "execution_count": 108
    }
   ],
   "source": [
    "arr = [1, 2, 3, 4 ,5, 6, 7]\n",
    "rotate_array_method2(arr, 3)"
   ]
  },
  {
   "cell_type": "code",
   "execution_count": null,
   "metadata": {},
   "outputs": [],
   "source": []
  }
 ]
}