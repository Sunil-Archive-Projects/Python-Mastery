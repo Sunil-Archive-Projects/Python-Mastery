{
 "cells": [
  {
   "cell_type": "markdown",
   "id": "included-advisory",
   "metadata": {},
   "source": [
    "# Linked List Implementation in Python"
   ]
  },
  {
   "cell_type": "code",
   "execution_count": 3,
   "id": "danish-neighbor",
   "metadata": {},
   "outputs": [],
   "source": [
    "#Node has the data and the reference to the next node\n",
    "class Node:\n",
    "    def __init__(self, data):\n",
    "        self.data = data\n",
    "        self.next = None"
   ]
  },
  {
   "cell_type": "code",
   "execution_count": 4,
   "id": "copyrighted-rainbow",
   "metadata": {},
   "outputs": [],
   "source": [
    "class LinkedList:\n",
    "    def __init__(self):\n",
    "        self.head = None\n",
    "        \n",
    "    def printList(self):\n",
    "        temp = self.head\n",
    "        while(temp != None):\n",
    "            print(\"{} -> \".format(temp.data), end='')\n",
    "            temp = temp.next\n",
    "        print(\"None\")\n",
    "        \n",
    "    def insertAtBeginning(self, data):\n",
    "        node = Node(data)        \n",
    "        if(self.head == None):\n",
    "            self.head = node\n",
    "        else:\n",
    "            temp = self.head\n",
    "            self.head = node\n",
    "            self.head.next = temp\n",
    "            \n",
    "    def insertAtEnd(self, data):\n",
    "        node = Node(data)\n",
    "        if(self.head == None):\n",
    "            self.head = node\n",
    "        else:\n",
    "            temp = self.head\n",
    "            while(temp.next != None):\n",
    "                temp = temp.next\n",
    "            temp.next = node\n",
    "    \n",
    "    def insertAfter(self, old_node_data, data):\n",
    "        #if its a empty list return\n",
    "        if(self.head == None):\n",
    "            return 0\n",
    "        \n",
    "        #Loop until end of the list or till we founf the Node\n",
    "        prev_node = self.head\n",
    "        while(prev_node != None):\n",
    "            if(prev_node.data == old_node_data):\n",
    "                break\n",
    "            prev_node = prev_node.next\n",
    "        \n",
    "        #Change the references of the nodes\n",
    "        if(prev_node == None):\n",
    "            return 0\n",
    "        else:\n",
    "            node = Node(data)\n",
    "            node.next = prev_node.next\n",
    "            prev_node.next = node\n",
    "            \n",
    "    def deleteNode(self, delete_key):\n",
    "        #If the list is empty, return\n",
    "        if(self.head == None):\n",
    "            return\n",
    "        temp = self.head\n",
    "\n",
    "        #if the head is the node which we want to delete\n",
    "        if(self.head.data == delete_key):\n",
    "            self.head = self.head.next\n",
    "            temp = None\n",
    "            return\n",
    "        \n",
    "        while(temp):\n",
    "            if(temp.data == delete_key):\n",
    "                break\n",
    "            prev = temp\n",
    "            temp = temp.next\n",
    "            \n",
    "        if(temp == None):\n",
    "            print(\"The key is not found\")\n",
    "            return\n",
    "        prev.next = temp.next\n",
    "        \n",
    "        temp, prev = None, None\n",
    "        \n",
    "    def getLength_iterative(self):\n",
    "        temp = self.head\n",
    "        count = 0\n",
    "        while(temp):\n",
    "            count += 1\n",
    "            temp = temp.next\n",
    "        \n",
    "        return count\n",
    "    \n",
    "    \n",
    "    def getLength_recursive(self, currNode):\n",
    "        if(currNode is None):\n",
    "            return 0\n",
    "        else:\n",
    "            return 1 + self.getLength_recursive(currNode.next)\n",
    "            \n",
    "    \n",
    "    def printMiddle_slowFastPointer(self):\n",
    "        if(self.head == None):\n",
    "            print(\"Empty List !\")\n",
    "            return\n",
    "        \n",
    "        slow_pointer, fast_pointer = self.head, self.head\n",
    "        \n",
    "        while fast_pointer and fast_pointer.next:\n",
    "            slow_pointer = slow_pointer.next\n",
    "            fast_pointer = fast_pointer.next.next\n",
    "            \n",
    "        print(f\"Middle Element : {slow_pointer.data}\")\n",
    "    \n",
    "\n",
    "def flattenLinkedList(self):\n",
    "            \n",
    "        \n",
    "                "
   ]
  },
  {
   "cell_type": "code",
   "execution_count": 5,
   "id": "knowing-zambia",
   "metadata": {},
   "outputs": [],
   "source": [
    "llist = LinkedList()"
   ]
  },
  {
   "cell_type": "markdown",
   "id": "dirty-synthesis",
   "metadata": {},
   "source": [
    "# Inserting a node into the Linked List"
   ]
  },
  {
   "cell_type": "code",
   "execution_count": 6,
   "id": "pediatric-plant",
   "metadata": {},
   "outputs": [
    {
     "output_type": "stream",
     "name": "stdout",
     "text": [
      "2 -> None\n1 -> 2 -> None\n1 -> 2 -> 5 -> None\n1 -> 2 -> 5 -> 6 -> 7 -> None\n1 -> 2 -> 3 -> 5 -> 6 -> 7 -> None\n1 -> 2 -> 3 -> 4 -> 5 -> 6 -> 7 -> None\n"
     ]
    }
   ],
   "source": [
    "# Insert node at the beginning of the Linked List\n",
    "llist.insertAtBeginning(2)\n",
    "llist.printList()\n",
    "llist.insertAtBeginning(1)\n",
    "llist.printList()\n",
    "\n",
    "# Insert node at the end of the Linked List\n",
    "llist.insertAtEnd(5)\n",
    "llist.printList()\n",
    "llist.insertAtEnd(6)\n",
    "llist.insertAtEnd(7)\n",
    "llist.printList()\n",
    "\n",
    "# Insert node after a Node in the Linked List\n",
    "llist.insertAfter(2,3)\n",
    "llist.printList()\n",
    "llist.insertAfter(3,4)\n",
    "llist.printList()"
   ]
  },
  {
   "cell_type": "markdown",
   "id": "sustainable-while",
   "metadata": {},
   "source": [
    "# Deleting a Node from the Linked List"
   ]
  },
  {
   "cell_type": "code",
   "execution_count": 183,
   "id": "significant-klein",
   "metadata": {},
   "outputs": [
    {
     "name": "stdout",
     "output_type": "stream",
     "text": [
      "2 -> 3 -> 4 -> 5 -> 6 -> 7 -> None\n",
      "2 -> 3 -> 4 -> 5 -> 7 -> None\n",
      "2 -> 3 -> 5 -> 7 -> None\n"
     ]
    }
   ],
   "source": [
    "llist.deleteNode(1)\n",
    "llist.printList()\n",
    "llist.deleteNode(6)\n",
    "llist.printList()\n",
    "llist.deleteNode(4)\n",
    "llist.printList()"
   ]
  },
  {
   "cell_type": "markdown",
   "id": "greenhouse-found",
   "metadata": {},
   "source": [
    "# Length of the Linked List"
   ]
  },
  {
   "cell_type": "code",
   "execution_count": 7,
   "id": "green-joshua",
   "metadata": {},
   "outputs": [
    {
     "output_type": "execute_result",
     "data": {
      "text/plain": [
       "7"
      ]
     },
     "metadata": {},
     "execution_count": 7
    }
   ],
   "source": [
    "# iterative Method\n",
    "#llist.getLength_iterative()\n",
    "\n",
    "# Recursive Method\n",
    "llist.getLength_recursive(llist.head)"
   ]
  },
  {
   "cell_type": "markdown",
   "id": "outside-field",
   "metadata": {},
   "source": [
    "# Print the middle element of the Linked List"
   ]
  },
  {
   "source": [
    "llist.printList()\n",
    "# llist.printMiddle_slowFastPointer()"
   ],
   "cell_type": "code",
   "metadata": {},
   "execution_count": 10,
   "outputs": [
    {
     "output_type": "stream",
     "name": "stdout",
     "text": [
      "1 -> 2 -> 3 -> 4 -> 5 -> 6 -> 7 -> None\n"
     ]
    }
   ]
  },
  {
   "source": [
    "# "
   ],
   "cell_type": "markdown",
   "metadata": {}
  },
  {
   "cell_type": "code",
   "execution_count": null,
   "metadata": {},
   "outputs": [],
   "source": []
  }
 ],
 "metadata": {
  "kernelspec": {
   "name": "python3",
   "display_name": "Python 3.8.2 64-bit",
   "metadata": {
    "interpreter": {
     "hash": "31f2aee4e71d21fbe5cf8b01ff0e069b9275f58929596ceb00d14d90e3e16cd6"
    }
   }
  },
  "language_info": {
   "codemirror_mode": {
    "name": "ipython",
    "version": 3
   },
   "file_extension": ".py",
   "mimetype": "text/x-python",
   "name": "python",
   "nbconvert_exporter": "python",
   "pygments_lexer": "ipython3",
   "version": "3.8.2-final"
  }
 },
 "nbformat": 4,
 "nbformat_minor": 5
}