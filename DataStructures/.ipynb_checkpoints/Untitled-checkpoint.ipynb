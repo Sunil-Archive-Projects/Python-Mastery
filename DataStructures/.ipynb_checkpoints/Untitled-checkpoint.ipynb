{
 "cells": [
  {
   "cell_type": "markdown",
   "id": "included-advisory",
   "metadata": {},
   "source": [
    "# Linked List"
   ]
  },
  {
   "cell_type": "code",
   "execution_count": 41,
   "id": "danish-neighbor",
   "metadata": {},
   "outputs": [],
   "source": [
    "#Node has the data and the reference to the next node\n",
    "class Node:\n",
    "    def __init__(self, data):\n",
    "        self.data = data\n",
    "        self.next = None"
   ]
  },
  {
   "cell_type": "code",
   "execution_count": 183,
   "id": "copyrighted-rainbow",
   "metadata": {},
   "outputs": [],
   "source": [
    "class LinkedList:\n",
    "    def __init__(self):\n",
    "        self.head = None\n",
    "        \n",
    "    def printList(self):\n",
    "        temp = self.head\n",
    "        while(temp != None):\n",
    "            print(\"{} -> \".format(temp.data), end='')\n",
    "            temp = temp.next\n",
    "        print(\"None\")\n",
    "        \n",
    "    def insertAtBeginning(self, data):\n",
    "        node = Node(data)        \n",
    "        if(self.head == None):\n",
    "            self.head = node\n",
    "        else:\n",
    "            temp = self.head\n",
    "            self.head = node\n",
    "            self.head.next = temp\n",
    "            \n",
    "    def insertAtEnd(self, data):\n",
    "        node = Node(data)\n",
    "        if(self.head == None):\n",
    "            self.head = node\n",
    "        else:\n",
    "            temp = self.head\n",
    "            while(temp.next != None):\n",
    "                temp = temp.next\n",
    "            temp.next = node\n",
    "    \n",
    "    def insertAfter(self, old_node_data, data):\n",
    "        #if its a empty list return\n",
    "        if(self.head == None):\n",
    "            return 0\n",
    "        \n",
    "        #Loop until end of the list or till we founf the Node\n",
    "        prev_node = self.head\n",
    "        while(prev_node != None):\n",
    "            if(prev_node.data == old_node_data):\n",
    "                break\n",
    "            prev_node = prev_node.next\n",
    "        \n",
    "        #Change the references of the nodes\n",
    "        if(prev_node == None):\n",
    "            return 0\n",
    "        else:\n",
    "            node = Node(data)\n",
    "            node.next = prev_node.next\n",
    "            prev_node.next = node\n",
    "            \n",
    "            "
   ]
  },
  {
   "cell_type": "code",
   "execution_count": 184,
   "id": "effective-endorsement",
   "metadata": {},
   "outputs": [],
   "source": [
    "if __name__ == '__main__':\n",
    "    llist = LinkedList()"
   ]
  },
  {
   "cell_type": "code",
   "execution_count": 185,
   "id": "knowing-zambia",
   "metadata": {},
   "outputs": [],
   "source": [
    "llist = LinkedList()"
   ]
  },
  {
   "cell_type": "code",
   "execution_count": 186,
   "id": "detected-japanese",
   "metadata": {},
   "outputs": [
    {
     "name": "stdout",
     "output_type": "stream",
     "text": [
      "None\n"
     ]
    }
   ],
   "source": [
    "llist.printList()"
   ]
  },
  {
   "cell_type": "markdown",
   "id": "dirty-synthesis",
   "metadata": {},
   "source": [
    "# Inserting a node into the Linked List"
   ]
  },
  {
   "cell_type": "code",
   "execution_count": 187,
   "id": "pediatric-plant",
   "metadata": {},
   "outputs": [
    {
     "name": "stdout",
     "output_type": "stream",
     "text": [
      "2 -> None\n",
      "1 -> 2 -> None\n"
     ]
    }
   ],
   "source": [
    "# Insert node at the beginning of the Linked List\n",
    "llist.insertAtBeginning(2)\n",
    "llist.printList()\n",
    "llist.insertAtBeginning(1)\n",
    "llist.printList()"
   ]
  },
  {
   "cell_type": "code",
   "execution_count": 188,
   "id": "unusual-evaluation",
   "metadata": {},
   "outputs": [
    {
     "name": "stdout",
     "output_type": "stream",
     "text": [
      "1 -> 2 -> 5 -> None\n",
      "1 -> 2 -> 5 -> 6 -> None\n"
     ]
    }
   ],
   "source": [
    "# Insert node at the end of the Linked List\n",
    "llist.insertAtEnd(5)\n",
    "llist.printList()\n",
    "llist.insertAtEnd(6)\n",
    "llist.printList()"
   ]
  },
  {
   "cell_type": "code",
   "execution_count": 189,
   "id": "utility-blast",
   "metadata": {},
   "outputs": [
    {
     "name": "stdout",
     "output_type": "stream",
     "text": [
      "1 -> 2 -> 3 -> 5 -> 6 -> None\n",
      "1 -> 2 -> 3 -> 4 -> 5 -> 6 -> None\n"
     ]
    }
   ],
   "source": [
    "# Insert node after a Node in the Linked List\n",
    "llist.insertAfter(2,3)\n",
    "llist.printList()\n",
    "llist.insertAfter(3,4)\n",
    "llist.printList()"
   ]
  },
  {
   "cell_type": "code",
   "execution_count": null,
   "id": "developing-marriage",
   "metadata": {},
   "outputs": [],
   "source": []
  },
  {
   "cell_type": "code",
   "execution_count": null,
   "id": "quiet-sampling",
   "metadata": {},
   "outputs": [],
   "source": []
  }
 ],
 "metadata": {
  "kernelspec": {
   "display_name": "Python 3",
   "language": "python",
   "name": "python3"
  },
  "language_info": {
   "codemirror_mode": {
    "name": "ipython",
    "version": 3
   },
   "file_extension": ".py",
   "mimetype": "text/x-python",
   "name": "python",
   "nbconvert_exporter": "python",
   "pygments_lexer": "ipython3",
   "version": "3.8.2"
  }
 },
 "nbformat": 4,
 "nbformat_minor": 5
}
